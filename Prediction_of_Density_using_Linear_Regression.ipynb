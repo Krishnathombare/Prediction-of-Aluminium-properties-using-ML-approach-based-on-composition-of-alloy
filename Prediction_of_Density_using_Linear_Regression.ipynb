{
  "nbformat": 4,
  "nbformat_minor": 0,
  "metadata": {
    "colab": {
      "provenance": [],
      "authorship_tag": "ABX9TyM+0V0pau/7B5NIxpOL3Ngg",
      "include_colab_link": true
    },
    "kernelspec": {
      "name": "python3",
      "display_name": "Python 3"
    },
    "language_info": {
      "name": "python"
    }
  },
  "cells": [
    {
      "cell_type": "markdown",
      "metadata": {
        "id": "view-in-github",
        "colab_type": "text"
      },
      "source": [
        "<a href=\"https://colab.research.google.com/github/Krishnathombare/Prediction-of-Aluminium-properties-using-ML-approach-based-on-composition-of-alloy/blob/main/Prediction_of_Density_using_Linear_Regression.ipynb\" target=\"_parent\"><img src=\"https://colab.research.google.com/assets/colab-badge.svg\" alt=\"Open In Colab\"/></a>"
      ]
    },
    {
      "cell_type": "code",
      "execution_count": null,
      "metadata": {
        "id": "vhVC3_qXc_he"
      },
      "outputs": [],
      "source": [
        "import pandas as pd\n",
        "from sklearn.model_selection import train_test_split\n",
        "from sklearn.linear_model import LinearRegression\n",
        "from sklearn.metrics import mean_squared_error, r2_score"
      ]
    },
    {
      "cell_type": "code",
      "source": [
        "\n",
        "data = pd.read_csv('Comp.csv')"
      ],
      "metadata": {
        "id": "aRblNvbjdHI2"
      },
      "execution_count": null,
      "outputs": []
    },
    {
      "cell_type": "code",
      "source": [
        "\n",
        "X = data.drop(columns=['Density'])  # Features\n",
        "y = data['Density']  # Target variable\n"
      ],
      "metadata": {
        "id": "UbWTm_6edPxO"
      },
      "execution_count": null,
      "outputs": []
    },
    {
      "cell_type": "code",
      "source": [
        "print(X)\n",
        "print(y)"
      ],
      "metadata": {
        "colab": {
          "base_uri": "https://localhost:8080/"
        },
        "id": "mIv-wg3XdTO3",
        "outputId": "869863c6-bda4-4801-a85d-dd93a190e856"
      },
      "execution_count": null,
      "outputs": [
        {
          "output_type": "stream",
          "name": "stdout",
          "text": [
            "     Aluminum  Chromium  Copper  Iron   Lead  Magnesium  Manganese  Nickel  \\\n",
            "0       91.90       0.1     5.2   0.2  0.003        0.2       0.15    0.05   \n",
            "1       91.90       0.2     1.5   0.3  0.000        0.5       0.20    0.00   \n",
            "2       91.90       0.0     5.5   0.2  0.000        0.5       0.10    0.00   \n",
            "3       91.90       0.1     3.5   0.7  1.000        0.2       1.00    0.20   \n",
            "4       91.90       0.0     1.0   0.7  0.000        0.5       0.60    0.20   \n",
            "..        ...       ...     ...   ...    ...        ...        ...     ...   \n",
            "109     97.55       0.0     0.1   0.0  0.000        0.1       0.10    0.00   \n",
            "110     97.55       0.0     0.1   0.0  0.000        0.1       0.10    0.00   \n",
            "111     97.55       0.0     0.1   0.0  0.000        0.1       0.10    0.00   \n",
            "112     97.55       0.0     0.1   0.0  0.000        0.1       0.10    0.00   \n",
            "113     97.55       0.0     0.1   0.0  0.000        0.1       0.10    0.00   \n",
            "\n",
            "     Silicon  Titanium  Zirconium  Bismuth  each  Other  \n",
            "0       0.20      0.20       0.05      0.0  0.05   0.15  \n",
            "1       0.35      0.20       0.00      0.0  0.05   0.15  \n",
            "2       0.20      0.05       0.30      0.0  0.05   0.15  \n",
            "3       0.80      0.20       0.00      0.2  0.05   0.15  \n",
            "4       0.80      0.30       0.00      0.0  0.05   0.10  \n",
            "..       ...       ...        ...      ...   ...    ...  \n",
            "109     0.00      0.00       0.00      0.0  0.05   0.15  \n",
            "110     0.00      0.00       0.00      0.0  0.05   0.15  \n",
            "111     0.00      0.00       0.00      0.0  0.05   0.15  \n",
            "112     0.00      0.00       0.00      0.0  0.05   0.15  \n",
            "113     0.00      0.00       0.00      0.0  0.05   0.15  \n",
            "\n",
            "[114 rows x 14 columns]\n",
            "0      2.82\n",
            "1      2.73\n",
            "2      2.82\n",
            "3      2.83\n",
            "4      2.74\n",
            "       ... \n",
            "109    2.84\n",
            "110    2.84\n",
            "111    2.84\n",
            "112    2.84\n",
            "113    2.84\n",
            "Name: Density, Length: 114, dtype: float64\n"
          ]
        }
      ]
    },
    {
      "cell_type": "code",
      "source": [
        "# Split the data into training and testing sets\n",
        "X_train, X_test, y_train, y_test = train_test_split(X, y, test_size=0.2, random_state=42)"
      ],
      "metadata": {
        "id": "euYak11BdVbH"
      },
      "execution_count": null,
      "outputs": []
    },
    {
      "cell_type": "code",
      "source": [
        "# Train the Linear Regression model\n",
        "model = LinearRegression()\n",
        "model.fit(X_train, y_train)"
      ],
      "metadata": {
        "colab": {
          "base_uri": "https://localhost:8080/",
          "height": 75
        },
        "id": "vUcNSYgtdbwo",
        "outputId": "e53593a0-8fa5-4cd2-e70c-443aa5041805"
      },
      "execution_count": null,
      "outputs": [
        {
          "output_type": "execute_result",
          "data": {
            "text/plain": [
              "LinearRegression()"
            ],
            "text/html": [
              "<style>#sk-container-id-1 {color: black;background-color: white;}#sk-container-id-1 pre{padding: 0;}#sk-container-id-1 div.sk-toggleable {background-color: white;}#sk-container-id-1 label.sk-toggleable__label {cursor: pointer;display: block;width: 100%;margin-bottom: 0;padding: 0.3em;box-sizing: border-box;text-align: center;}#sk-container-id-1 label.sk-toggleable__label-arrow:before {content: \"▸\";float: left;margin-right: 0.25em;color: #696969;}#sk-container-id-1 label.sk-toggleable__label-arrow:hover:before {color: black;}#sk-container-id-1 div.sk-estimator:hover label.sk-toggleable__label-arrow:before {color: black;}#sk-container-id-1 div.sk-toggleable__content {max-height: 0;max-width: 0;overflow: hidden;text-align: left;background-color: #f0f8ff;}#sk-container-id-1 div.sk-toggleable__content pre {margin: 0.2em;color: black;border-radius: 0.25em;background-color: #f0f8ff;}#sk-container-id-1 input.sk-toggleable__control:checked~div.sk-toggleable__content {max-height: 200px;max-width: 100%;overflow: auto;}#sk-container-id-1 input.sk-toggleable__control:checked~label.sk-toggleable__label-arrow:before {content: \"▾\";}#sk-container-id-1 div.sk-estimator input.sk-toggleable__control:checked~label.sk-toggleable__label {background-color: #d4ebff;}#sk-container-id-1 div.sk-label input.sk-toggleable__control:checked~label.sk-toggleable__label {background-color: #d4ebff;}#sk-container-id-1 input.sk-hidden--visually {border: 0;clip: rect(1px 1px 1px 1px);clip: rect(1px, 1px, 1px, 1px);height: 1px;margin: -1px;overflow: hidden;padding: 0;position: absolute;width: 1px;}#sk-container-id-1 div.sk-estimator {font-family: monospace;background-color: #f0f8ff;border: 1px dotted black;border-radius: 0.25em;box-sizing: border-box;margin-bottom: 0.5em;}#sk-container-id-1 div.sk-estimator:hover {background-color: #d4ebff;}#sk-container-id-1 div.sk-parallel-item::after {content: \"\";width: 100%;border-bottom: 1px solid gray;flex-grow: 1;}#sk-container-id-1 div.sk-label:hover label.sk-toggleable__label {background-color: #d4ebff;}#sk-container-id-1 div.sk-serial::before {content: \"\";position: absolute;border-left: 1px solid gray;box-sizing: border-box;top: 0;bottom: 0;left: 50%;z-index: 0;}#sk-container-id-1 div.sk-serial {display: flex;flex-direction: column;align-items: center;background-color: white;padding-right: 0.2em;padding-left: 0.2em;position: relative;}#sk-container-id-1 div.sk-item {position: relative;z-index: 1;}#sk-container-id-1 div.sk-parallel {display: flex;align-items: stretch;justify-content: center;background-color: white;position: relative;}#sk-container-id-1 div.sk-item::before, #sk-container-id-1 div.sk-parallel-item::before {content: \"\";position: absolute;border-left: 1px solid gray;box-sizing: border-box;top: 0;bottom: 0;left: 50%;z-index: -1;}#sk-container-id-1 div.sk-parallel-item {display: flex;flex-direction: column;z-index: 1;position: relative;background-color: white;}#sk-container-id-1 div.sk-parallel-item:first-child::after {align-self: flex-end;width: 50%;}#sk-container-id-1 div.sk-parallel-item:last-child::after {align-self: flex-start;width: 50%;}#sk-container-id-1 div.sk-parallel-item:only-child::after {width: 0;}#sk-container-id-1 div.sk-dashed-wrapped {border: 1px dashed gray;margin: 0 0.4em 0.5em 0.4em;box-sizing: border-box;padding-bottom: 0.4em;background-color: white;}#sk-container-id-1 div.sk-label label {font-family: monospace;font-weight: bold;display: inline-block;line-height: 1.2em;}#sk-container-id-1 div.sk-label-container {text-align: center;}#sk-container-id-1 div.sk-container {/* jupyter's `normalize.less` sets `[hidden] { display: none; }` but bootstrap.min.css set `[hidden] { display: none !important; }` so we also need the `!important` here to be able to override the default hidden behavior on the sphinx rendered scikit-learn.org. See: https://github.com/scikit-learn/scikit-learn/issues/21755 */display: inline-block !important;position: relative;}#sk-container-id-1 div.sk-text-repr-fallback {display: none;}</style><div id=\"sk-container-id-1\" class=\"sk-top-container\"><div class=\"sk-text-repr-fallback\"><pre>LinearRegression()</pre><b>In a Jupyter environment, please rerun this cell to show the HTML representation or trust the notebook. <br />On GitHub, the HTML representation is unable to render, please try loading this page with nbviewer.org.</b></div><div class=\"sk-container\" hidden><div class=\"sk-item\"><div class=\"sk-estimator sk-toggleable\"><input class=\"sk-toggleable__control sk-hidden--visually\" id=\"sk-estimator-id-1\" type=\"checkbox\" checked><label for=\"sk-estimator-id-1\" class=\"sk-toggleable__label sk-toggleable__label-arrow\">LinearRegression</label><div class=\"sk-toggleable__content\"><pre>LinearRegression()</pre></div></div></div></div></div>"
            ]
          },
          "metadata": {},
          "execution_count": 8
        }
      ]
    },
    {
      "cell_type": "code",
      "source": [
        "# Make predictions\n",
        "y_pred = model.predict(X_test)\n",
        "print(y_pred)"
      ],
      "metadata": {
        "colab": {
          "base_uri": "https://localhost:8080/"
        },
        "id": "dMsff9tpdrka",
        "outputId": "e5503a53-f8fc-4613-aa20-ba160fac0bb6"
      },
      "execution_count": null,
      "outputs": [
        {
          "output_type": "stream",
          "name": "stdout",
          "text": [
            "[2.68156599 2.73714705 2.76071909 2.77445631 2.75026738 2.77413178\n",
            " 2.78597659 2.7337255  2.77413178 2.70223691 2.76186305 2.77413178\n",
            " 2.71340274 2.75574385 2.72389108 2.75690951 2.75479546 2.72105258\n",
            " 2.68156599 2.77720617 2.75277331 2.68955931 2.81527992]\n"
          ]
        }
      ]
    },
    {
      "cell_type": "code",
      "source": [
        "# Evaluate the model\n",
        "mse = mean_squared_error(y_test, y_pred)\n",
        "r2 = r2_score(y_test, y_pred)\n",
        "print(\"Mean Squared Error:\", mse)\n",
        "print(\"R^2 Score:\", r2)"
      ],
      "metadata": {
        "colab": {
          "base_uri": "https://localhost:8080/"
        },
        "id": "dGQmT6-Adtli",
        "outputId": "d1cf2533-161b-4987-c9e3-5f760d5555c2"
      },
      "execution_count": null,
      "outputs": [
        {
          "output_type": "stream",
          "name": "stdout",
          "text": [
            "Mean Squared Error: 0.0029123747531950507\n",
            "R^2 Score: 0.5051881280703425\n"
          ]
        }
      ]
    },
    {
      "cell_type": "code",
      "source": [
        "new_data = pd.DataFrame({\n",
        "    'Aluminum': [91.5],\n",
        "    'Chromium': [0],\n",
        "    'Copper': [5.8],\n",
        "    'Iron': [0.3],\n",
        "    'Lead': [0],\n",
        "    'Magnesium': [0.02],\n",
        "    'Manganese': [0.2],\n",
        "    'Nickel': [0],\n",
        "    'Silicon': [0.2],\n",
        "    'Titanium': [0.02],\n",
        "    'Zirconium': [0.1],\n",
        "    'Bismuth': [0],\n",
        "    'each': [0.05],\n",
        "    'Other': [0.15]\n",
        "})\n",
        "new_predictions = model.predict(new_data)\n",
        "\n",
        "print(\"Predicted Density for New Alloy Composition:\", new_predictions[0])"
      ],
      "metadata": {
        "colab": {
          "base_uri": "https://localhost:8080/"
        },
        "id": "nLwnMgL_d0HC",
        "outputId": "185159ca-2269-4dcb-d1f5-b4506683734f"
      },
      "execution_count": null,
      "outputs": [
        {
          "output_type": "stream",
          "name": "stdout",
          "text": [
            "Predicted Density for New Alloy Composition: 2.788890074023609\n"
          ]
        }
      ]
    }
  ]
}